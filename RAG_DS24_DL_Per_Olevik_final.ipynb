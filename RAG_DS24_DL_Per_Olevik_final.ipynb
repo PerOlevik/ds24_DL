{
 "cells": [
  {
   "cell_type": "code",
   "execution_count": null,
   "id": "7877921a",
   "metadata": {},
   "outputs": [],
   "source": [
    "import os\n",
    "import google.generativeai as genai\n",
    "from dotenv import load_dotenv\n",
    "import pdfplumber   \n",
    "\n",
    "from langchain.vectorstores import FAISS\n",
    "from langchain_huggingface import HuggingFaceEmbeddings\n",
    "from langchain.text_splitter import RecursiveCharacterTextSplitter\n",
    "from langchain.schema import Document"
   ]
  },
  {
   "cell_type": "code",
   "execution_count": 21,
   "id": "4c284e95",
   "metadata": {},
   "outputs": [],
   "source": [
    "# Grundläggande initieringar\n",
    "load_dotenv()\n",
    "genai.configure(api_key=os.getenv(\"API_KEY\"))\n",
    "model = genai.GenerativeModel(model_name=\"models/gemini-1.5-flash-latest\")\n",
    "embeddings = HuggingFaceEmbeddings(model_name=\"all-MiniLM-L6-v2\")\n",
    "INDEX_PATH = \"mitt_index\"           # Sökväg till FAISS-indexmapp\n"
   ]
  },
  {
   "cell_type": "markdown",
   "id": "78526a96",
   "metadata": {},
   "source": [
    "# RAG"
   ]
  },
  {
   "cell_type": "code",
   "execution_count": 22,
   "id": "b2ddc79f",
   "metadata": {},
   "outputs": [],
   "source": [
    "# Hämta PDF-filer\n",
    "def get_all_pdfs_in_folder(folder_path):\n",
    "    return [\n",
    "        os.path.join(folder_path, file)\n",
    "        for file in os.listdir(folder_path)\n",
    "        if file.endswith(\".pdf\")\n",
    "    ]\n",
    "    \n",
    "# Ladda PDF:er som sidor med sidunummer och dokumentnamn som metadata\n",
    "def load_clean_pdfs_with_page_metadata(pdf_paths):\n",
    "    docs = []\n",
    "    for pdf_path in pdf_paths:\n",
    "        with pdfplumber.open(pdf_path) as pdf:              # använder pdfplumber för bättre hantering av rubriker, punktlistor, kolumner m.m som är vanliga i rapporterna... istället för att platta ut..\n",
    "            filename = os.path.basename(pdf_path)\n",
    "            for i, page in enumerate(pdf.pages):\n",
    "                text = page.extract_text()\n",
    "                if text:\n",
    "                    clean_text = \" \".join(text.split())     # städar i texten\n",
    "                    metadata = {\"source\": filename, \"page\": i + 1}\n",
    "                    docs.append(Document(page_content=clean_text, metadata=metadata))\n",
    "    return docs\n"
   ]
  },
  {
   "cell_type": "code",
   "execution_count": 23,
   "id": "107c989c",
   "metadata": {},
   "outputs": [],
   "source": [
    "# Chunkar dokument\n",
    "def chunk_documents(docs, chunk_size=700, chunk_overlap=150): # ganska stora chunks och overlap för att inte missa kontext.\n",
    "    splitter = RecursiveCharacterTextSplitter(\n",
    "        chunk_size=chunk_size,\n",
    "        chunk_overlap=chunk_overlap,\n",
    "        separators=[\"\\n\\n\", \"\\n\", \".\", \" \"]     # hirearkisk lista över var text helst ska brytas.\n",
    "    )\n",
    "    return splitter.split_documents(docs)       # metadata behålls\n",
    "\n",
    "# Skapar FAISS-index med embeddings\n",
    "def store_in_faiss(chunks):\n",
    "    return FAISS.from_documents(chunks, embeddings)"
   ]
  },
  {
   "cell_type": "code",
   "execution_count": 24,
   "id": "a2e503e1",
   "metadata": {},
   "outputs": [],
   "source": [
    "# Frågar Gemini med kontext från FAISS\n",
    "def ask_with_gemini(faiss_index, query, k=12, max_words=100):   \n",
    "    matched_docs = faiss_index.similarity_search(query, k=k)    # hittar k chunks baserat på cosine similarity på embeddings.\n",
    "\n",
    "    # Skapar kontextsträng med källa + sida\n",
    "    context = \"\\n\\n\".join([\n",
    "        f\"Från {doc.metadata['source']} (sida {doc.metadata['page']}):\\n{doc.page_content.strip()}\"\n",
    "        for doc in matched_docs\n",
    "    ])\n",
    "    \n",
    "    # Skapar prompt med kontext och fråga\n",
    "    system_prompt = (\n",
    "    \"Svara utifrån följande sammanställningar av forskningsrapporter:\\n\\n\"\n",
    "    f\"{context}\\n\\n\"\n",
    "    \"❗ Analysera texten noggrant. Ignorera ofullständiga meningar, sidhuvuden, figurer och punktlistor.\\n\"\n",
    "    f\"Svara på frågan: {query}\\n\"\n",
    "    f\"Begränsa dig till max {max_words} ord och ange sidnummer och dokument i svaret.\"\n",
    "    )\n",
    "    \n",
    "    response = model.generate_content(system_prompt)\n",
    "    return response.text, system_prompt"
   ]
  },
  {
   "cell_type": "code",
   "execution_count": 29,
   "id": "14feea67",
   "metadata": {},
   "outputs": [
    {
     "name": "stdout",
     "output_type": "stream",
     "text": [
      "Laddar befintligt FAISS-index...\n",
      "Svar:\n",
      " Ja, det finns flera konkurrensproblem i matkedjan.  Bristande transparens och orättvisa kontrollavgifter påverkar konkurrensen i primärproduktionen (Konkurrensen i primärproduktionen, s. 19).  Dagligvaruhandelns höga priser överstiger ofta kostnadsökningar (Stigande matpriser och lönsamhet, s. 26).  Komplexa regelverk gynnar etablerade aktörer (Dagligvaruhandelns etablering, s. 16), och begränsningar i avtal mellan slakterier och uppfödare försvårar byte av köpare (Avtalsstrukturer i livsmedelskedjan, s. 16).  Dessutom kan tidsfönster för lansering av varor skapa svårigheter för leverantörer (Tidsfönster för lansering av varor, s. 19).  Konkurrensverket har identifierat flera av dessa problem.\n",
      "\n"
     ]
    }
   ],
   "source": [
    "# Användning\n",
    "\n",
    "# Ladda eller bygg FAISS-index\n",
    "if os.path.exists(f\"{INDEX_PATH}/index.faiss\") and os.path.exists(f\"{INDEX_PATH}/index.pkl\"):\n",
    "    print(\"Laddar befintligt FAISS-index...\")\n",
    "    faiss_index = FAISS.load_local(INDEX_PATH, embeddings, allow_dangerous_deserialization=True)\n",
    "\n",
    "else:\n",
    "    print(\"Skapar nytt FAISS-index...\")\n",
    "    folder = r\"KKV\"\n",
    "    pdf_files = get_all_pdfs_in_folder(folder)\n",
    "    docs_text = load_clean_pdfs_with_page_metadata(pdf_files)\n",
    "    chunks = chunk_documents(docs_text)\n",
    "    faiss_index = store_in_faiss(chunks)\n",
    "    faiss_index.save_local(INDEX_PATH)\n",
    "    print(\"FAISS-index sparat.\")\n",
    "\n",
    "# Testfråga:\n",
    "svar, prompt = ask_with_gemini(faiss_index, \"finns det kokurrensproblem i matkedjan?\", max_words=150)\n",
    "\n",
    "\n",
    "print(\"Svar:\\n\", svar)"
   ]
  },
  {
   "cell_type": "code",
   "execution_count": 28,
   "id": "8e553238",
   "metadata": {},
   "outputs": [
    {
     "name": "stdout",
     "output_type": "stream",
     "text": [
      "12 dokument laddade:\n",
      " - Alternativa distributionsformer.pdf\n",
      " - Avtalsstrukturer i livsmedelskedjan.pdf\n",
      " - Dagligvaruhandelns etablering.pdf\n",
      " - Handelns egna varumärken.pdf\n",
      " - Hinder för konkurrens.pdf\n",
      " - Konkurrensen dagligvaruaktörer.pdf\n",
      " - Konkurrensen i primärproduktionen.pdf\n",
      " - Konkurrensen i äggkedjan.pdf\n",
      " - Konkurrensverkets sammanfattning.pdf\n",
      " - Stigande matpriser och lönsamhet.pdf\n",
      " - Tidsfönster för lansering av varor.pdf\n",
      " - Ökande livsmedelspriser och konkurrens.pdf\n"
     ]
    }
   ],
   "source": [
    "# Kontroll av laddade dokument\n",
    "print(f\"{len(pdf_files)} dokument laddade:\")\n",
    "for filepath in pdf_files:\n",
    "    filename = os.path.basename(filepath)\n",
    "    print(f\" - {filename}\")"
   ]
  },
  {
   "cell_type": "markdown",
   "id": "75067502",
   "metadata": {},
   "source": [
    "# Självevaluering"
   ]
  },
  {
   "cell_type": "code",
   "execution_count": 30,
   "id": "df6913fb",
   "metadata": {},
   "outputs": [],
   "source": [
    "validation_data = [\n",
    "    {\n",
    "        \"question\": \"Vart har priset för ägg ökat mest\",\n",
    "        \"ideal_answer\": \"Det vi funnit är att priset ökat mest för ägg från frigående höns inomhus som säljs av stormarknader. \"\n",
    "    },\n",
    "    {\n",
    "        \"question\": \"Vad avses med begreppet 'tidsfönster' inom dagligvaruhandeln?\",\n",
    "        \"ideal_answer\": \"tidsfönstren avser de tidpunkter när förändringar i produkt sortimentet bör ske i butiksledet, antingen genom nylansering av en produkt eller genom revidering av en befintlig produkt, exempelvis med anledning av en nsmak eller en större förpackning. Det kan också avse tidpunkter för utfasning av produkter.\"\n",
    "    }, \n",
    "    {\n",
    "        \"question\": \"När dog Olof Palme?\",\n",
    "        \"ideal_answer\": \"Jag har inte tillgång till information för att svara på den frågan.\" \n",
    "    }\n",
    " ]"
   ]
  },
  {
   "cell_type": "code",
   "execution_count": 31,
   "id": "60145b59",
   "metadata": {},
   "outputs": [],
   "source": [
    " evaluation_system_prompt =\"\"\"Du är ett intelligent neutralt utvärderingssystem vars uppgift är att utvärdera en AI-assistents svar. \n",
    " Om svaret är väldigt nära det önskade svaret, sätt poängen 1. Om svaret är felaktigt eller inte bra nog,sätt poängen 0. \n",
    " Om svaret innehåller rätt information, men även mer info som komplementerar den i idealsvaret, kan du sätta 1.\n",
    " Om svaret är delvis i linje med det önskade svaret, sätt poängen 0.5. Motivera kort varför du sätter den poäng du gör.\n",
    " \"\"\""
   ]
  },
  {
   "cell_type": "code",
   "execution_count": 32,
   "id": "b1ac604e",
   "metadata": {},
   "outputs": [],
   "source": [
    "def evaluate_response(faiss_index, question, ideal_answer):\n",
    "    # Få svar från modellen\n",
    "    response_text, _ = ask_with_gemini(faiss_index, question)\n",
    "\n",
    "    # Skapa utvärderingsprompt\n",
    "    evaluation_prompt = f\"\"\"{evaluation_system_prompt}\n",
    "\n",
    "Fråga: {question}\n",
    "AI-assistentens svar: {response_text}\n",
    "Önskat svar: {ideal_answer}\"\"\"\n",
    "\n",
    "    # Skicka prompt till modellen direkt, utan FAISS denna gång\n",
    "    evaluation_response = model.generate_content(evaluation_prompt)\n",
    "\n",
    "    return response_text, evaluation_response.text\n"
   ]
  },
  {
   "cell_type": "code",
   "execution_count": 33,
   "id": "0c52abd4",
   "metadata": {},
   "outputs": [],
   "source": [
    "def extract_score(evaluation_text):\n",
    "    \n",
    "    for token in [\"1\", \"0.5\", \"0\"]:\n",
    "        if f\"Poäng: {token}\" in evaluation_text or f\"poängen {token}\" in evaluation_text:\n",
    "            return float(token)\n",
    "    return 0            # default om inget kan tolkas"
   ]
  },
  {
   "cell_type": "code",
   "execution_count": 34,
   "id": "6c5b3e21",
   "metadata": {},
   "outputs": [
    {
     "name": "stdout",
     "output_type": "stream",
     "text": [
      "\n",
      "====== Utvärdering av valideringsfrågor ======\n",
      "\n",
      " --> Fråga 1: Vart har priset för ägg ökat mest\n",
      " AI-svar: Priset på frigående inomhusegg har ökat mest på stormarknader jämfört med kvartersbutiker.  Detta framgår av \"Konkurrensen i äggkedjan.pdf\", sida 16.  Dokumenten nämner även att priset på ägg generellt ökat mer än andra livsmedel, men specificerar inte var ökningen varit störst utöver just frigående inomhusegg på stormarknader.\n",
      "\n",
      " Idealsvar: Det vi funnit är att priset ökat mest för ägg från frigående höns inomhus som säljs av stormarknader. \n",
      " Utvärdering: Poäng: 1\n",
      "\n",
      "Motivering: AI-assistentens svar matchar det önskade svaret nästan perfekt.  Informationen är identisk och tillägget om att äggpriset generellt ökat mer än andra livsmedel är relevant och kompletterande information som stärker svaret utan att vara vilseledande eller irrelevant.  Källhänvisningen är också en positiv aspekt.\n",
      "\n",
      "\n",
      " --> Fråga 2: Vad avses med begreppet 'tidsfönster' inom dagligvaruhandeln?\n",
      " AI-svar: \"Tidsfönster\" avser tidsperioder för lansering av varor i dagligvaruhandeln (Tidsfönster för lansering av varor.pdf, sida 1).  Konkurrensverket påpekar att dessa tidsfönster i vissa fall kan fördröja nylanseringar/revideringar jämfört med en situation utan tidsfönster (Tidsfönster för lansering av varor.pdf, sida 17).  Exakt vad som definierar dessa tidsfönster framgår inte explicit.\n",
      "\n",
      " Idealsvar: tidsfönstren avser de tidpunkter när förändringar i produkt sortimentet bör ske i butiksledet, antingen genom nylansering av en produkt eller genom revidering av en befintlig produkt, exempelvis med anledning av en nsmak eller en större förpackning. Det kan också avse tidpunkter för utfasning av produkter.\n",
      " Utvärdering: Poäng: 0.5\n",
      "\n",
      "Motivering: AI-assistentens svar tangerar det önskade svaret genom att nämna nylanseringar/revideringar och att tidsfönster kan fördröja dessa.  Det saknar dock den viktiga aspekten av *när* förändringarna ska ske i butiken (dvs.  tidsaspekten i relation till sortimentsförändringar).  Svaret fokuserar mer på konsekvenserna av tidsfönster än på definitionen.  Att hänvisa till en PDF utan att sammanfatta informationen gör svaret mindre användbart.  Det finns element av rätt information, men det är inte tillräckligt komplett för att få full poäng.\n",
      "\n",
      "\n",
      " --> Fråga 3: När dog Olof Palme?\n",
      " AI-svar: Informationen om Olof Palmes död finns inte i de tillhandahållna dokumenten.  Dokumenten behandlar dagligvaruhandeln i Sverige och innehåller ingen information om Olof Palme.\n",
      "\n",
      " Idealsvar: Jag har inte tillgång till information för att svara på den frågan.\n",
      " Utvärdering: Poäng: 1\n",
      "\n",
      "Motivering: AI-assistentens svar är funktionellt ekvivalent med det önskade svaret.  Båda svarar på frågan genom att förklara att de saknar relevant information.  Att AI:n specificerar *varför* den saknar information (genom att nämna dokumentens innehåll) är extra information som inte skadar svaret, och till och med förbättrar det genom att förklara situationen tydligare.\n",
      "\n",
      "\n",
      "=> Genomsnittligt betyg: 0.83 av 1.0 <=\n"
     ]
    }
   ],
   "source": [
    "def run_full_evaluation(validation_data, faiss_index):\n",
    "    results = []\n",
    "    total_score = 0\n",
    "\n",
    "    for i, item in enumerate(validation_data):\n",
    "        ai_response, evaluation_text = evaluate_response(faiss_index, item[\"question\"], item[\"ideal_answer\"])\n",
    "        score = extract_score(evaluation_text)\n",
    "\n",
    "        results.append({\n",
    "            \"question\": item[\"question\"],\n",
    "            \"ai_answer\": ai_response,\n",
    "            \"ideal_answer\": item[\"ideal_answer\"],\n",
    "            \"evaluation\": evaluation_text,\n",
    "            \"score\": score\n",
    "        })\n",
    "\n",
    "        total_score += score\n",
    "\n",
    "    average_score = total_score / len(validation_data)\n",
    "\n",
    "    # Sammanfattning\n",
    "    print(\"\\n====== Utvärdering av valideringsfrågor ======\")\n",
    "    for i, r in enumerate(results):\n",
    "        print(f\"\\n --> Fråga {i+1}: {r['question']}\")\n",
    "        print(f\" AI-svar: {r['ai_answer']}\")\n",
    "        print(f\" Idealsvar: {r['ideal_answer']}\")\n",
    "        print(f\" Utvärdering: {r['evaluation']}\")\n",
    "\n",
    "    print(f\"\\n=> Genomsnittligt betyg: {round(average_score, 2)} av 1.0 <=\")\n",
    "\n",
    "# Kör allt\n",
    "run_full_evaluation(validation_data, faiss_index)\n"
   ]
  },
  {
   "cell_type": "markdown",
   "id": "8ab5b9cf",
   "metadata": {},
   "source": [
    "# Fördjupad diskussion\n",
    "\n",
    "Min RAG är tränad på 11 rapporter, samt en sammanfattande rapport, kring konkurrenssituationen inom matbranschen. Rapporterna är framtagna av, eller på uppdrag av, Konkurrensverket inom ramen av ett regeringsuppdrag.\n",
    "\n",
    "Att träna en språkmodell på given input är bra i olika kontexter där man vill vara säker vilken data svaren som modellen genererar är baserade på, och där man inte är intresserad av annan input.\n",
    "I detta fall skulle Konkurrensverket i samband med publicering av rapporterna också ha kunnat publicera en chatbot som svarade på frågor kring dessa specifika rapporter. Det kan vara till nytta för allmänheten, skolelever, forskare eller  politiker som är intresserade av en specifik frånga, eller vill ha en snabb överblick. Genom att lägga til rapport- och sidhänvisning i modellens svar, som jag gjort, kan den intresserade snabbt ta sig till den rapport som berör det som är av intresse. Detta torde i många fall vara mer effektivt än att användaren ska vara hänvisad till läsning av sammanfattningar, vilket även de i många fall är långa texter som kan kännas omständiga för den som vill ha ett snabbt svar.\n",
    "\n",
    "Användningsområdena är många för denna typ av modeller; regler och lagar, utbildningmaterial, policys, kontrakt och avtal, instruktioner, databaser med rättsfall för snabb sökning av praxis etc. \n",
    "\n",
    "Fördelarna är två, varav den ena redan är nämnd; Modellen svarar utifrån den data du vill och uppger (om instruerade att göra så) att den inte har information för att svara om man frågar sådant som inte finns i materialet. Detta i kontrast till en generell modell, vilken \"chansar\" om fakta saknas.\n",
    "\n",
    "Detta kan vara positivt då användarna kan få en snabb och kostnadseffektiv tillgång till fakta och får ett faktabaserat underlag till beslut - utifrån det givna underlaget, utan gissningar och input från andra källor.\n",
    "\n",
    "Den andra fördelen är att du kan träna modellen på konfidentiell information som du inte vågar tillgängliggöra till en öppen allmän språkmodell. Genom RAG ges möjlighet att den språkmodell som nyttjas tar del av det känsliga materialet i en sluten miljö. Metoden i sig är dock inte säker per se men möjliggör sekretess genom kryptering av, och åtkomstkontroll till, databasen med vektorer.\n",
    "\n",
    "Utöver att säkerställa önskad informationssäkerhet finns andra problemområden värda att känna till med RAG-modeller.\n",
    "\n",
    "- Kvalitén på de svar som modellen ger blir aldrig bättre än kvalitén på det inläsat materialet. Är den felaktig, utdaterade, ofullständigt eller vinklad blir modellens svar också det. Att säkerställa relevant och korrekt information som modellen får läsa in sig på är av största vikt!\n",
    "\n",
    "- Även om input-data är korrekt är inte RAG modeller perfekta. Även om de inte gissar så finns sannolikheten att de missar viss information som är relevant. Chunkning och modellspecifikation är viktiga att mixtra med. T.ex. ställde jag till en början in att modellen skulle titta i relativt få kontextuella chunkar när den konstruerade svar. I och med att jag hade ganska många dokument (12) missades vid vissa frågor input från vissa dokument.\n",
    "\n",
    "- Givet ovan potentiella tillkortakommanden är det också intressant att fundera på vem som är ansvariga när ett dåligt beslut fattas utifrån dålig information från modellen. Den som programmerat modellen dåligt? Den som är ansvarig för att tillse att inputdata är av god kvalité? Användaren som borde dubbelkolla faktan i de svar som modellen genererar?\n",
    "\n",
    "- Jag kan också se att det finns en risk i case med komplex och omfattande information - som exempelvis i mitt fall med många forskningsrapporter - att den som ställer en fråga får ett väl koncist svar, är nöjd med det, och inte ger sig tid att läsa rapporten för att förstå den helhet och det större perspektiv som krävs för djupförståelse. Lite som att läsa en korrekt men kort artikel om ett krig, och utifrån den välja sida för sina sympatier i konflikten.\n",
    "\n",
    "Sammanfattningsvis tänker jag att RAG-modeller kan vara till stor nytta och skapa stora effektivitetsvinster. Men att man måste nyttja dem med eftertanke och anpassa hantering av den information man får från modellen utifrån karaktären/vikten av de beslut/handlingar som de leder till.\n",
    "\n"
   ]
  },
  {
   "cell_type": "markdown",
   "id": "2354ee69",
   "metadata": {},
   "source": [
    "# Självutvärdering\n",
    "\n",
    " #### 1. Vad har varit roligast i kunskapskontrollen?\n",
    " Kul att se att det ändå är rätt snabbt gjort att skapa något som många företag och organisationer skulle ha ganska stor nytta av! Mer specifikt så tror jag att den exempelanvändning som jag programmerat skulle kunna vara av nytta för myndigheter\n",
    " och forskningsinstutiotioner som gärna vill göra information från ofta tunga rapporter och utredningar lätt tillgängliga för den stora allmänheten.\n",
    "\n",
    " #### 2. Vilket betyg anser du att du ska ha och varför?\n",
    " Jag har gått för VG och tycker jag levererar enligt de uppställda kriterierna.\n",
    "\n",
    " \n",
    " #### 3. Vad har varit mest utmanande i arbetet och hur har du hanterat det?\n",
    "Jag hade svårt att komma på vad för information jag skulle ha som input i min modell. Alla idéer jag hade krävde information från företag som inte är offentlig. Jag googlade runt, diskuterade med ChatGPT och kom sedan på idén med Konkurrensverkets rapporter i samband med att jag var på deras hemsida för att reka inför ansökan om LIA. \n"
   ]
  }
 ],
 "metadata": {
  "kernelspec": {
   "display_name": "venv",
   "language": "python",
   "name": "python3"
  },
  "language_info": {
   "codemirror_mode": {
    "name": "ipython",
    "version": 3
   },
   "file_extension": ".py",
   "mimetype": "text/x-python",
   "name": "python",
   "nbconvert_exporter": "python",
   "pygments_lexer": "ipython3",
   "version": "3.12.3"
  }
 },
 "nbformat": 4,
 "nbformat_minor": 5
}
